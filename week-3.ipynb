{
 "cells": [
  {
   "cell_type": "code",
   "execution_count": 126,
   "id": "d9a19abc",
   "metadata": {},
   "outputs": [],
   "source": [
    "import numpy as np\n",
    "import pandas as pd"
   ]
  },
  {
   "cell_type": "code",
   "execution_count": 127,
   "id": "47c0e6b8",
   "metadata": {},
   "outputs": [
    {
     "data": {
      "text/html": [
       "<div>\n",
       "<style scoped>\n",
       "    .dataframe tbody tr th:only-of-type {\n",
       "        vertical-align: middle;\n",
       "    }\n",
       "\n",
       "    .dataframe tbody tr th {\n",
       "        vertical-align: top;\n",
       "    }\n",
       "\n",
       "    .dataframe thead th {\n",
       "        text-align: right;\n",
       "    }\n",
       "</style>\n",
       "<table border=\"1\" class=\"dataframe\">\n",
       "  <thead>\n",
       "    <tr style=\"text-align: right;\">\n",
       "      <th></th>\n",
       "      <th>Make</th>\n",
       "      <th>Model</th>\n",
       "      <th>Year</th>\n",
       "      <th>Engine Fuel Type</th>\n",
       "      <th>Engine HP</th>\n",
       "      <th>Engine Cylinders</th>\n",
       "      <th>Transmission Type</th>\n",
       "      <th>Driven_Wheels</th>\n",
       "      <th>Number of Doors</th>\n",
       "      <th>Market Category</th>\n",
       "      <th>Vehicle Size</th>\n",
       "      <th>Vehicle Style</th>\n",
       "      <th>highway MPG</th>\n",
       "      <th>city mpg</th>\n",
       "      <th>Popularity</th>\n",
       "      <th>MSRP</th>\n",
       "    </tr>\n",
       "  </thead>\n",
       "  <tbody>\n",
       "    <tr>\n",
       "      <th>0</th>\n",
       "      <td>BMW</td>\n",
       "      <td>1 Series M</td>\n",
       "      <td>2011</td>\n",
       "      <td>premium unleaded (required)</td>\n",
       "      <td>335.0</td>\n",
       "      <td>6.0</td>\n",
       "      <td>MANUAL</td>\n",
       "      <td>rear wheel drive</td>\n",
       "      <td>2.0</td>\n",
       "      <td>Factory Tuner,Luxury,High-Performance</td>\n",
       "      <td>Compact</td>\n",
       "      <td>Coupe</td>\n",
       "      <td>26</td>\n",
       "      <td>19</td>\n",
       "      <td>3916</td>\n",
       "      <td>46135</td>\n",
       "    </tr>\n",
       "    <tr>\n",
       "      <th>1</th>\n",
       "      <td>BMW</td>\n",
       "      <td>1 Series</td>\n",
       "      <td>2011</td>\n",
       "      <td>premium unleaded (required)</td>\n",
       "      <td>300.0</td>\n",
       "      <td>6.0</td>\n",
       "      <td>MANUAL</td>\n",
       "      <td>rear wheel drive</td>\n",
       "      <td>2.0</td>\n",
       "      <td>Luxury,Performance</td>\n",
       "      <td>Compact</td>\n",
       "      <td>Convertible</td>\n",
       "      <td>28</td>\n",
       "      <td>19</td>\n",
       "      <td>3916</td>\n",
       "      <td>40650</td>\n",
       "    </tr>\n",
       "    <tr>\n",
       "      <th>2</th>\n",
       "      <td>BMW</td>\n",
       "      <td>1 Series</td>\n",
       "      <td>2011</td>\n",
       "      <td>premium unleaded (required)</td>\n",
       "      <td>300.0</td>\n",
       "      <td>6.0</td>\n",
       "      <td>MANUAL</td>\n",
       "      <td>rear wheel drive</td>\n",
       "      <td>2.0</td>\n",
       "      <td>Luxury,High-Performance</td>\n",
       "      <td>Compact</td>\n",
       "      <td>Coupe</td>\n",
       "      <td>28</td>\n",
       "      <td>20</td>\n",
       "      <td>3916</td>\n",
       "      <td>36350</td>\n",
       "    </tr>\n",
       "    <tr>\n",
       "      <th>3</th>\n",
       "      <td>BMW</td>\n",
       "      <td>1 Series</td>\n",
       "      <td>2011</td>\n",
       "      <td>premium unleaded (required)</td>\n",
       "      <td>230.0</td>\n",
       "      <td>6.0</td>\n",
       "      <td>MANUAL</td>\n",
       "      <td>rear wheel drive</td>\n",
       "      <td>2.0</td>\n",
       "      <td>Luxury,Performance</td>\n",
       "      <td>Compact</td>\n",
       "      <td>Coupe</td>\n",
       "      <td>28</td>\n",
       "      <td>18</td>\n",
       "      <td>3916</td>\n",
       "      <td>29450</td>\n",
       "    </tr>\n",
       "    <tr>\n",
       "      <th>4</th>\n",
       "      <td>BMW</td>\n",
       "      <td>1 Series</td>\n",
       "      <td>2011</td>\n",
       "      <td>premium unleaded (required)</td>\n",
       "      <td>230.0</td>\n",
       "      <td>6.0</td>\n",
       "      <td>MANUAL</td>\n",
       "      <td>rear wheel drive</td>\n",
       "      <td>2.0</td>\n",
       "      <td>Luxury</td>\n",
       "      <td>Compact</td>\n",
       "      <td>Convertible</td>\n",
       "      <td>28</td>\n",
       "      <td>18</td>\n",
       "      <td>3916</td>\n",
       "      <td>34500</td>\n",
       "    </tr>\n",
       "  </tbody>\n",
       "</table>\n",
       "</div>"
      ],
      "text/plain": [
       "  Make       Model  Year             Engine Fuel Type  Engine HP  \\\n",
       "0  BMW  1 Series M  2011  premium unleaded (required)      335.0   \n",
       "1  BMW    1 Series  2011  premium unleaded (required)      300.0   \n",
       "2  BMW    1 Series  2011  premium unleaded (required)      300.0   \n",
       "3  BMW    1 Series  2011  premium unleaded (required)      230.0   \n",
       "4  BMW    1 Series  2011  premium unleaded (required)      230.0   \n",
       "\n",
       "   Engine Cylinders Transmission Type     Driven_Wheels  Number of Doors  \\\n",
       "0               6.0            MANUAL  rear wheel drive              2.0   \n",
       "1               6.0            MANUAL  rear wheel drive              2.0   \n",
       "2               6.0            MANUAL  rear wheel drive              2.0   \n",
       "3               6.0            MANUAL  rear wheel drive              2.0   \n",
       "4               6.0            MANUAL  rear wheel drive              2.0   \n",
       "\n",
       "                         Market Category Vehicle Size Vehicle Style  \\\n",
       "0  Factory Tuner,Luxury,High-Performance      Compact         Coupe   \n",
       "1                     Luxury,Performance      Compact   Convertible   \n",
       "2                Luxury,High-Performance      Compact         Coupe   \n",
       "3                     Luxury,Performance      Compact         Coupe   \n",
       "4                                 Luxury      Compact   Convertible   \n",
       "\n",
       "   highway MPG  city mpg  Popularity   MSRP  \n",
       "0           26        19        3916  46135  \n",
       "1           28        19        3916  40650  \n",
       "2           28        20        3916  36350  \n",
       "3           28        18        3916  29450  \n",
       "4           28        18        3916  34500  "
      ]
     },
     "execution_count": 127,
     "metadata": {},
     "output_type": "execute_result"
    }
   ],
   "source": [
    "data = pd.read_csv(\"data.csv\")\n",
    "data.head()"
   ]
  },
  {
   "cell_type": "code",
   "execution_count": 128,
   "id": "487c9019",
   "metadata": {},
   "outputs": [
    {
     "data": {
      "text/plain": [
       "Index(['Make', 'Model', 'Year', 'Engine Fuel Type', 'Engine HP',\n",
       "       'Engine Cylinders', 'Transmission Type', 'Driven_Wheels',\n",
       "       'Number of Doors', 'Market Category', 'Vehicle Size', 'Vehicle Style',\n",
       "       'highway MPG', 'city mpg', 'Popularity', 'MSRP'],\n",
       "      dtype='object')"
      ]
     },
     "execution_count": 128,
     "metadata": {},
     "output_type": "execute_result"
    }
   ],
   "source": [
    "data.columns"
   ]
  },
  {
   "cell_type": "code",
   "execution_count": 129,
   "id": "87b14860",
   "metadata": {},
   "outputs": [],
   "source": [
    "columns = [\n",
    "    'Make',\n",
    "    'Model',\n",
    "    'Year',\n",
    "    'Engine HP',\n",
    "    'Engine Cylinders',\n",
    "    'Transmission Type',\n",
    "    'Vehicle Style',\n",
    "    'highway MPG',\n",
    "    'city mpg',\n",
    "    'MSRP'\n",
    "]\n",
    "data = data[columns]"
   ]
  },
  {
   "cell_type": "code",
   "execution_count": 130,
   "id": "11db2ce0",
   "metadata": {},
   "outputs": [
    {
     "data": {
      "text/plain": [
       "Index(['make', 'model', 'year', 'engine_hp', 'engine_cylinders',\n",
       "       'transmission_type', 'vehicle_style', 'highway_mpg', 'city_mpg',\n",
       "       'price', 'above_average'],\n",
       "      dtype='object')"
      ]
     },
     "execution_count": 130,
     "metadata": {},
     "output_type": "execute_result"
    }
   ],
   "source": [
    "df.columns"
   ]
  },
  {
   "cell_type": "code",
   "execution_count": 131,
   "id": "a8eb2ae7",
   "metadata": {},
   "outputs": [],
   "source": [
    "data.columns = data.columns.str.replace(' ', '_').str.lower()"
   ]
  },
  {
   "cell_type": "code",
   "execution_count": 132,
   "id": "ea15f71e",
   "metadata": {},
   "outputs": [
    {
     "data": {
      "text/plain": [
       "Index(['make', 'model', 'year', 'engine_hp', 'engine_cylinders',\n",
       "       'transmission_type', 'vehicle_style', 'highway_mpg', 'city_mpg',\n",
       "       'msrp'],\n",
       "      dtype='object')"
      ]
     },
     "execution_count": 132,
     "metadata": {},
     "output_type": "execute_result"
    }
   ],
   "source": [
    "data.columns"
   ]
  },
  {
   "cell_type": "code",
   "execution_count": 133,
   "id": "0a19b38f",
   "metadata": {},
   "outputs": [
    {
     "data": {
      "text/plain": [
       "make                  0\n",
       "model                 0\n",
       "year                  0\n",
       "engine_hp            69\n",
       "engine_cylinders     30\n",
       "transmission_type     0\n",
       "vehicle_style         0\n",
       "highway_mpg           0\n",
       "city_mpg              0\n",
       "msrp                  0\n",
       "dtype: int64"
      ]
     },
     "execution_count": 133,
     "metadata": {},
     "output_type": "execute_result"
    }
   ],
   "source": [
    "data.isnull().sum()"
   ]
  },
  {
   "cell_type": "code",
   "execution_count": 134,
   "id": "15c9b68d",
   "metadata": {},
   "outputs": [],
   "source": [
    "data = data.fillna(0)"
   ]
  },
  {
   "cell_type": "code",
   "execution_count": 135,
   "id": "eaa22417",
   "metadata": {},
   "outputs": [
    {
     "data": {
      "text/plain": [
       "make                 0\n",
       "model                0\n",
       "year                 0\n",
       "engine_hp            0\n",
       "engine_cylinders     0\n",
       "transmission_type    0\n",
       "vehicle_style        0\n",
       "highway_mpg          0\n",
       "city_mpg             0\n",
       "msrp                 0\n",
       "dtype: int64"
      ]
     },
     "execution_count": 135,
     "metadata": {},
     "output_type": "execute_result"
    }
   ],
   "source": [
    "data.isnull().sum()"
   ]
  },
  {
   "cell_type": "code",
   "execution_count": 136,
   "id": "de712bd2",
   "metadata": {},
   "outputs": [],
   "source": [
    "data = data.rename(columns={'msrp': 'price'})"
   ]
  },
  {
   "cell_type": "code",
   "execution_count": 137,
   "id": "dd4f95df",
   "metadata": {},
   "outputs": [
    {
     "data": {
      "text/plain": [
       "Index(['make', 'model', 'year', 'engine_hp', 'engine_cylinders',\n",
       "       'transmission_type', 'vehicle_style', 'highway_mpg', 'city_mpg',\n",
       "       'price'],\n",
       "      dtype='object')"
      ]
     },
     "execution_count": 137,
     "metadata": {},
     "output_type": "execute_result"
    }
   ],
   "source": [
    "data.columns"
   ]
  },
  {
   "cell_type": "code",
   "execution_count": 138,
   "id": "59007813",
   "metadata": {},
   "outputs": [
    {
     "data": {
      "text/plain": [
       "0    AUTOMATIC\n",
       "Name: transmission_type, dtype: object"
      ]
     },
     "execution_count": 138,
     "metadata": {},
     "output_type": "execute_result"
    }
   ],
   "source": [
    "data['transmission_type'].mode()"
   ]
  },
  {
   "cell_type": "code",
   "execution_count": 139,
   "id": "911857b2",
   "metadata": {},
   "outputs": [
    {
     "data": {
      "text/plain": [
       "make                  object\n",
       "model                 object\n",
       "year                   int64\n",
       "engine_hp            float64\n",
       "engine_cylinders     float64\n",
       "transmission_type     object\n",
       "vehicle_style         object\n",
       "highway_mpg            int64\n",
       "city_mpg               int64\n",
       "price                  int64\n",
       "dtype: object"
      ]
     },
     "execution_count": 139,
     "metadata": {},
     "output_type": "execute_result"
    }
   ],
   "source": [
    "data.dtypes"
   ]
  },
  {
   "cell_type": "code",
   "execution_count": 140,
   "id": "41aef1e3",
   "metadata": {},
   "outputs": [
    {
     "data": {
      "text/plain": [
       "['year', 'engine_hp', 'engine_cylinders', 'highway_mpg', 'city_mpg', 'price']"
      ]
     },
     "execution_count": 140,
     "metadata": {},
     "output_type": "execute_result"
    }
   ],
   "source": [
    "numericals=[\"year\", \"engine_hp\", \"engine_cylinders\", \"highway_mpg\", \"city_mpg\", \"price\"]\n",
    "numericals"
   ]
  },
  {
   "cell_type": "code",
   "execution_count": 141,
   "id": "2b4d72a0",
   "metadata": {},
   "outputs": [
    {
     "data": {
      "text/html": [
       "<div>\n",
       "<style scoped>\n",
       "    .dataframe tbody tr th:only-of-type {\n",
       "        vertical-align: middle;\n",
       "    }\n",
       "\n",
       "    .dataframe tbody tr th {\n",
       "        vertical-align: top;\n",
       "    }\n",
       "\n",
       "    .dataframe thead th {\n",
       "        text-align: right;\n",
       "    }\n",
       "</style>\n",
       "<table border=\"1\" class=\"dataframe\">\n",
       "  <thead>\n",
       "    <tr style=\"text-align: right;\">\n",
       "      <th></th>\n",
       "      <th>year</th>\n",
       "      <th>engine_hp</th>\n",
       "      <th>engine_cylinders</th>\n",
       "      <th>highway_mpg</th>\n",
       "      <th>city_mpg</th>\n",
       "      <th>price</th>\n",
       "    </tr>\n",
       "  </thead>\n",
       "  <tbody>\n",
       "    <tr>\n",
       "      <th>year</th>\n",
       "      <td>1.000000</td>\n",
       "      <td>0.338714</td>\n",
       "      <td>-0.040708</td>\n",
       "      <td>0.258240</td>\n",
       "      <td>0.198171</td>\n",
       "      <td>0.227590</td>\n",
       "    </tr>\n",
       "    <tr>\n",
       "      <th>engine_hp</th>\n",
       "      <td>0.338714</td>\n",
       "      <td>1.000000</td>\n",
       "      <td>0.774851</td>\n",
       "      <td>-0.415707</td>\n",
       "      <td>-0.424918</td>\n",
       "      <td>0.650095</td>\n",
       "    </tr>\n",
       "    <tr>\n",
       "      <th>engine_cylinders</th>\n",
       "      <td>-0.040708</td>\n",
       "      <td>0.774851</td>\n",
       "      <td>1.000000</td>\n",
       "      <td>-0.614541</td>\n",
       "      <td>-0.587306</td>\n",
       "      <td>0.526274</td>\n",
       "    </tr>\n",
       "    <tr>\n",
       "      <th>highway_mpg</th>\n",
       "      <td>0.258240</td>\n",
       "      <td>-0.415707</td>\n",
       "      <td>-0.614541</td>\n",
       "      <td>1.000000</td>\n",
       "      <td>0.886829</td>\n",
       "      <td>-0.160043</td>\n",
       "    </tr>\n",
       "    <tr>\n",
       "      <th>city_mpg</th>\n",
       "      <td>0.198171</td>\n",
       "      <td>-0.424918</td>\n",
       "      <td>-0.587306</td>\n",
       "      <td>0.886829</td>\n",
       "      <td>1.000000</td>\n",
       "      <td>-0.157676</td>\n",
       "    </tr>\n",
       "    <tr>\n",
       "      <th>price</th>\n",
       "      <td>0.227590</td>\n",
       "      <td>0.650095</td>\n",
       "      <td>0.526274</td>\n",
       "      <td>-0.160043</td>\n",
       "      <td>-0.157676</td>\n",
       "      <td>1.000000</td>\n",
       "    </tr>\n",
       "  </tbody>\n",
       "</table>\n",
       "</div>"
      ],
      "text/plain": [
       "                      year  engine_hp  engine_cylinders  highway_mpg  \\\n",
       "year              1.000000   0.338714         -0.040708     0.258240   \n",
       "engine_hp         0.338714   1.000000          0.774851    -0.415707   \n",
       "engine_cylinders -0.040708   0.774851          1.000000    -0.614541   \n",
       "highway_mpg       0.258240  -0.415707         -0.614541     1.000000   \n",
       "city_mpg          0.198171  -0.424918         -0.587306     0.886829   \n",
       "price             0.227590   0.650095          0.526274    -0.160043   \n",
       "\n",
       "                  city_mpg     price  \n",
       "year              0.198171  0.227590  \n",
       "engine_hp        -0.424918  0.650095  \n",
       "engine_cylinders -0.587306  0.526274  \n",
       "highway_mpg       0.886829 -0.160043  \n",
       "city_mpg          1.000000 -0.157676  \n",
       "price            -0.157676  1.000000  "
      ]
     },
     "execution_count": 141,
     "metadata": {},
     "output_type": "execute_result"
    }
   ],
   "source": [
    "val=data[numericals].corr()\n",
    "val"
   ]
  },
  {
   "cell_type": "code",
   "execution_count": 142,
   "id": "a9934567",
   "metadata": {},
   "outputs": [],
   "source": [
    "price_mean = data.price.mean()\n",
    "data['above_average'] = data.price > price_mean\n",
    "data.above_average = data.above_average.astype(int)"
   ]
  },
  {
   "cell_type": "code",
   "execution_count": 143,
   "id": "fd026f5b",
   "metadata": {},
   "outputs": [
    {
     "data": {
      "text/plain": [
       "0    1\n",
       "1    1\n",
       "2    0\n",
       "3    0\n",
       "4    0\n",
       "Name: above_average, dtype: int32"
      ]
     },
     "execution_count": 143,
     "metadata": {},
     "output_type": "execute_result"
    }
   ],
   "source": [
    "data['above_average'].head()"
   ]
  },
  {
   "cell_type": "code",
   "execution_count": 144,
   "id": "994b66b3",
   "metadata": {},
   "outputs": [],
   "source": [
    "from sklearn.compose import ColumnTransformer\n",
    "from sklearn.linear_model import LogisticRegression, Ridge\n",
    "from sklearn.metrics import mutual_info_score, accuracy_score, mean_squared_error\n",
    "from sklearn.model_selection import train_test_split\n",
    "from sklearn.pipeline import Pipeline\n",
    "from sklearn.preprocessing import OneHotEncoder"
   ]
  },
  {
   "cell_type": "code",
   "execution_count": 150,
   "id": "1776b0dc",
   "metadata": {},
   "outputs": [],
   "source": [
    "train, test = train_test_split(data, test_size=0.2, random_state=42)\n",
    "train, val = train_test_split(train, test_size=0.25, random_state=42)\n",
    "\n",
    "# Remove the target variable from the datasets\n",
    "X_train = train.drop(columns=[\"above_average\"])\n",
    "y_train = train[\"above_average\"]\n",
    "X_val = val.drop(columns=[\"above_average\"])\n",
    "y_val = val[\"above_average\"]\n",
    "X_test = test.drop(columns=[\"above_average\"])\n",
    "y_test = test[\"above_average\"]\n",
    "\n"
   ]
  },
  {
   "cell_type": "code",
   "execution_count": 151,
   "id": "fa237af9",
   "metadata": {},
   "outputs": [
    {
     "name": "stdout",
     "output_type": "stream",
     "text": [
      "X_train shape: (7148, 10)\n",
      "X_val shape: (2383, 10)\n",
      "X_test shape: (2383, 10)\n"
     ]
    }
   ],
   "source": [
    "# Check the shapes of the resulting sets\n",
    "print(\"X_train shape:\", X_train.shape)\n",
    "print(\"X_val shape:\", X_val.shape)\n",
    "print(\"X_test shape:\", X_test.shape)"
   ]
  },
  {
   "cell_type": "code",
   "execution_count": 158,
   "id": "ef8b8477",
   "metadata": {},
   "outputs": [
    {
     "name": "stdout",
     "output_type": "stream",
     "text": [
      "Mutual Information between make and above_average: 0.24\n",
      "Mutual Information between model and above_average: 0.46\n",
      "Mutual Information between transmission_type and above_average: 0.02\n",
      "Mutual Information between vehicle_style and above_average: 0.08\n",
      "The variable with the lowest mutual information score is 'transmission_type' with a score of 0.02\n"
     ]
    }
   ],
   "source": [
    "categorical_columns = [\"make\", \"model\", \"transmission_type\", \"vehicle_style\"]\n",
    "\n",
    "mi_scores = {}\n",
    "for column in categorical_columns:\n",
    "    mi_score = mutual_info_score(X_train[column], y_train)\n",
    "    mi_scores[column] = round(mi_score, 2)\n",
    "\n",
    "# Print the mutual information scores\n",
    "for column, score in mi_scores.items():\n",
    "    print(f\"Mutual Information between {column} and above_average: {score:.2f}\")\n",
    "    \n",
    "# Find the variable with the lowest mutual information score\n",
    "lowest_mi_variable = min(mi_scores, key=mi_scores.get)\n",
    "lowest_mi_score = mi_scores[lowest_mi_variable]\n",
    "\n",
    "print(f\"The variable with the lowest mutual information score is '{lowest_mi_variable}' with a score of {lowest_mi_score:.2f}\")"
   ]
  },
  {
   "cell_type": "code",
   "execution_count": 213,
   "id": "4fef7f69",
   "metadata": {},
   "outputs": [],
   "source": [
    "# Create a copy of the original data\n",
    "data_copy = data.copy()"
   ]
  },
  {
   "cell_type": "code",
   "execution_count": 214,
   "id": "c33cb48e",
   "metadata": {},
   "outputs": [],
   "source": [
    "# Select the categorical columns\n",
    "categorical_columns = [\"make\", \"model\", \"transmission_type\", \"vehicle_style\"]"
   ]
  },
  {
   "cell_type": "code",
   "execution_count": 215,
   "id": "f693e26f",
   "metadata": {},
   "outputs": [],
   "source": [
    "# Combine training and validation datasets for one-hot encoding\n",
    "X_combined = pd.concat([X_train[categorical_columns], X_val[categorical_columns]])\n"
   ]
  },
  {
   "cell_type": "code",
   "execution_count": 216,
   "id": "2020215b",
   "metadata": {},
   "outputs": [
    {
     "name": "stderr",
     "output_type": "stream",
     "text": [
      "C:\\Users\\koush\\anaconda3\\envs\\ml-zoomcamp\\lib\\site-packages\\sklearn\\preprocessing\\_encoders.py:972: FutureWarning: `sparse` was renamed to `sparse_output` in version 1.2 and will be removed in 1.4. `sparse_output` is ignored unless you leave `sparse` to its default value.\n",
      "  warnings.warn(\n"
     ]
    }
   ],
   "source": [
    "encoder = OneHotEncoder(sparse=False, drop='first')\n",
    "X_combined_encoded = encoder.fit_transform(X_combined)\n"
   ]
  },
  {
   "cell_type": "code",
   "execution_count": 217,
   "id": "1fd03c2e",
   "metadata": {},
   "outputs": [],
   "source": [
    "X_train_encoded = X_combined_encoded[:len(X_train)]\n",
    "X_val_encoded = X_combined_encoded[len(X_train):]\n"
   ]
  },
  {
   "cell_type": "code",
   "execution_count": 218,
   "id": "406a946b",
   "metadata": {},
   "outputs": [
    {
     "data": {
      "text/html": [
       "<style>#sk-container-id-2 {color: black;}#sk-container-id-2 pre{padding: 0;}#sk-container-id-2 div.sk-toggleable {background-color: white;}#sk-container-id-2 label.sk-toggleable__label {cursor: pointer;display: block;width: 100%;margin-bottom: 0;padding: 0.3em;box-sizing: border-box;text-align: center;}#sk-container-id-2 label.sk-toggleable__label-arrow:before {content: \"▸\";float: left;margin-right: 0.25em;color: #696969;}#sk-container-id-2 label.sk-toggleable__label-arrow:hover:before {color: black;}#sk-container-id-2 div.sk-estimator:hover label.sk-toggleable__label-arrow:before {color: black;}#sk-container-id-2 div.sk-toggleable__content {max-height: 0;max-width: 0;overflow: hidden;text-align: left;background-color: #f0f8ff;}#sk-container-id-2 div.sk-toggleable__content pre {margin: 0.2em;color: black;border-radius: 0.25em;background-color: #f0f8ff;}#sk-container-id-2 input.sk-toggleable__control:checked~div.sk-toggleable__content {max-height: 200px;max-width: 100%;overflow: auto;}#sk-container-id-2 input.sk-toggleable__control:checked~label.sk-toggleable__label-arrow:before {content: \"▾\";}#sk-container-id-2 div.sk-estimator input.sk-toggleable__control:checked~label.sk-toggleable__label {background-color: #d4ebff;}#sk-container-id-2 div.sk-label input.sk-toggleable__control:checked~label.sk-toggleable__label {background-color: #d4ebff;}#sk-container-id-2 input.sk-hidden--visually {border: 0;clip: rect(1px 1px 1px 1px);clip: rect(1px, 1px, 1px, 1px);height: 1px;margin: -1px;overflow: hidden;padding: 0;position: absolute;width: 1px;}#sk-container-id-2 div.sk-estimator {font-family: monospace;background-color: #f0f8ff;border: 1px dotted black;border-radius: 0.25em;box-sizing: border-box;margin-bottom: 0.5em;}#sk-container-id-2 div.sk-estimator:hover {background-color: #d4ebff;}#sk-container-id-2 div.sk-parallel-item::after {content: \"\";width: 100%;border-bottom: 1px solid gray;flex-grow: 1;}#sk-container-id-2 div.sk-label:hover label.sk-toggleable__label {background-color: #d4ebff;}#sk-container-id-2 div.sk-serial::before {content: \"\";position: absolute;border-left: 1px solid gray;box-sizing: border-box;top: 0;bottom: 0;left: 50%;z-index: 0;}#sk-container-id-2 div.sk-serial {display: flex;flex-direction: column;align-items: center;background-color: white;padding-right: 0.2em;padding-left: 0.2em;position: relative;}#sk-container-id-2 div.sk-item {position: relative;z-index: 1;}#sk-container-id-2 div.sk-parallel {display: flex;align-items: stretch;justify-content: center;background-color: white;position: relative;}#sk-container-id-2 div.sk-item::before, #sk-container-id-2 div.sk-parallel-item::before {content: \"\";position: absolute;border-left: 1px solid gray;box-sizing: border-box;top: 0;bottom: 0;left: 50%;z-index: -1;}#sk-container-id-2 div.sk-parallel-item {display: flex;flex-direction: column;z-index: 1;position: relative;background-color: white;}#sk-container-id-2 div.sk-parallel-item:first-child::after {align-self: flex-end;width: 50%;}#sk-container-id-2 div.sk-parallel-item:last-child::after {align-self: flex-start;width: 50%;}#sk-container-id-2 div.sk-parallel-item:only-child::after {width: 0;}#sk-container-id-2 div.sk-dashed-wrapped {border: 1px dashed gray;margin: 0 0.4em 0.5em 0.4em;box-sizing: border-box;padding-bottom: 0.4em;background-color: white;}#sk-container-id-2 div.sk-label label {font-family: monospace;font-weight: bold;display: inline-block;line-height: 1.2em;}#sk-container-id-2 div.sk-label-container {text-align: center;}#sk-container-id-2 div.sk-container {/* jupyter's `normalize.less` sets `[hidden] { display: none; }` but bootstrap.min.css set `[hidden] { display: none !important; }` so we also need the `!important` here to be able to override the default hidden behavior on the sphinx rendered scikit-learn.org. See: https://github.com/scikit-learn/scikit-learn/issues/21755 */display: inline-block !important;position: relative;}#sk-container-id-2 div.sk-text-repr-fallback {display: none;}</style><div id=\"sk-container-id-2\" class=\"sk-top-container\"><div class=\"sk-text-repr-fallback\"><pre>LogisticRegression(C=10, max_iter=1000, random_state=42, solver=&#x27;liblinear&#x27;)</pre><b>In a Jupyter environment, please rerun this cell to show the HTML representation or trust the notebook. <br />On GitHub, the HTML representation is unable to render, please try loading this page with nbviewer.org.</b></div><div class=\"sk-container\" hidden><div class=\"sk-item\"><div class=\"sk-estimator sk-toggleable\"><input class=\"sk-toggleable__control sk-hidden--visually\" id=\"sk-estimator-id-2\" type=\"checkbox\" checked><label for=\"sk-estimator-id-2\" class=\"sk-toggleable__label sk-toggleable__label-arrow\">LogisticRegression</label><div class=\"sk-toggleable__content\"><pre>LogisticRegression(C=10, max_iter=1000, random_state=42, solver=&#x27;liblinear&#x27;)</pre></div></div></div></div></div>"
      ],
      "text/plain": [
       "LogisticRegression(C=10, max_iter=1000, random_state=42, solver='liblinear')"
      ]
     },
     "execution_count": 218,
     "metadata": {},
     "output_type": "execute_result"
    }
   ],
   "source": [
    "# Create and train the logistic regression model\n",
    "model = LogisticRegression(solver='liblinear', C=10, max_iter=1000, random_state=42)\n",
    "model.fit(X_train_encoded, y_train)"
   ]
  },
  {
   "cell_type": "code",
   "execution_count": 220,
   "id": "d839b47c",
   "metadata": {},
   "outputs": [],
   "source": [
    "# Get the coefficients from the internal estimator\n",
    "coefficients = model.coef_[0]"
   ]
  },
  {
   "cell_type": "code",
   "execution_count": 221,
   "id": "8c2f472d",
   "metadata": {},
   "outputs": [],
   "source": [
    "# Make predictions on the validation dataset\n",
    "y_val_pred = model.predict(X_val_encoded)\n",
    "\n"
   ]
  },
  {
   "cell_type": "code",
   "execution_count": 222,
   "id": "17e8608b",
   "metadata": {},
   "outputs": [
    {
     "data": {
      "text/plain": [
       "0.9332773814519513"
      ]
     },
     "execution_count": 222,
     "metadata": {},
     "output_type": "execute_result"
    }
   ],
   "source": [
    "# Calculate the accuracy on the validation dataset\n",
    "accuracy = accuracy_score(y_val, y_val_pred)\n",
    "accuracy\n",
    "\n"
   ]
  },
  {
   "cell_type": "code",
   "execution_count": 232,
   "id": "7912aa4a",
   "metadata": {},
   "outputs": [
    {
     "name": "stdout",
     "output_type": "stream",
     "text": [
      "Validation Accuracy: 0.93\n"
     ]
    }
   ],
   "source": [
    "#Round the accuracy to 2 decimal places\n",
    "rounded_accuracy = round(accuracy, 2)\n",
    "\n",
    "print(f\"Validation Accuracy: {rounded_accuracy:.2f}\")"
   ]
  },
  {
   "cell_type": "code",
   "execution_count": 233,
   "id": "3db07716",
   "metadata": {},
   "outputs": [],
   "source": [
    "# Get the coefficients of the logistic regression model\n",
    "coefficients = model.coef_[0]"
   ]
  },
  {
   "cell_type": "code",
   "execution_count": 235,
   "id": "bb120a12",
   "metadata": {},
   "outputs": [],
   "source": [
    "# Find the index of the least useful feature (the one with the smallest absolute coefficient)\n",
    "least_useful_feature_index = np.argmin(np.abs(coefficients))"
   ]
  },
  {
   "cell_type": "code",
   "execution_count": 237,
   "id": "953d1d01",
   "metadata": {},
   "outputs": [
    {
     "name": "stdout",
     "output_type": "stream",
     "text": [
      "The least useful feature is feature number 99 with a coefficient of 0.0000\n"
     ]
    }
   ],
   "source": [
    "print(f\"The least useful feature is feature number {least_useful_feature_index} with a coefficient of {coefficients[least_useful_feature_index]:.4f}\")"
   ]
  },
  {
   "cell_type": "code",
   "execution_count": 247,
   "id": "2d216861",
   "metadata": {},
   "outputs": [],
   "source": [
    "# Create a function to calculate accuracy without a given feature\n",
    "def calculate_accuracy_without_feature(feature_index):\n",
    "    X_train_encoded_without_feature = np.delete(X_train_encoded, feature_index, axis=1)\n",
    "    X_val_encoded_without_feature = np.delete(X_val_encoded, feature_index, axis=1)\n",
    "\n",
    "    model = LogisticRegression(solver='liblinear', C=10, max_iter=1000, random_state=42)\n",
    "    model.fit(X_train_encoded_without_feature, y_train)\n",
    "\n",
    "    y_val_pred = model.predict(X_val_encoded_without_feature)\n",
    "\n",
    "    accuracy = accuracy_score(y_val, y_val_pred)\n",
    "    return accuracy"
   ]
  },
  {
   "cell_type": "code",
   "execution_count": 248,
   "id": "7f6eccbe",
   "metadata": {},
   "outputs": [],
   "source": [
    "# Calculate the original accuracy\n",
    "original_accuracy = accuracy\n",
    "\n",
    "# Initialize a list to store feature accuracy differences\n",
    "feature_accuracy_differences = []"
   ]
  },
  {
   "cell_type": "code",
   "execution_count": 250,
   "id": "25981563",
   "metadata": {},
   "outputs": [],
   "source": [
    "# Iterate through each feature\n",
    "for feature_index in range(X_train_encoded.shape[1]):\n",
    "    \n",
    "    # Calculate accuracy without the current feature\n",
    "    accuracy_without_feature = calculate_accuracy_without_feature(feature_index)\n",
    "    \n",
    "    # Calculate the accuracy difference\n",
    "    accuracy_difference = original_accuracy - accuracy_without_feature\n",
    "    \n",
    "    # Store the feature index and its accuracy difference in the list\n",
    "    feature_accuracy_differences.append((feature_index, accuracy_difference))\n",
    "\n"
   ]
  },
  {
   "cell_type": "code",
   "execution_count": 252,
   "id": "31e3b27e",
   "metadata": {},
   "outputs": [],
   "source": [
    "\n",
    "# Sort the features by their accuracy differences (from least useful to most useful)\n",
    "sorted_feature_accuracy_differences = sorted(feature_accuracy_differences, key=lambda x: x[1])"
   ]
  },
  {
   "cell_type": "code",
   "execution_count": 253,
   "id": "d0b59f70",
   "metadata": {},
   "outputs": [
    {
     "name": "stdout",
     "output_type": "stream",
     "text": [
      "The least useful feature is '315' with an accuracy difference of -0.0017\n"
     ]
    }
   ],
   "source": [
    "# Find and print the least useful feature\n",
    "least_useful_feature, accuracy_difference = sorted_feature_accuracy_differences[0]\n",
    "\n",
    "print(f\"The least useful feature is '{least_useful_feature}' with an accuracy difference of {accuracy_difference:.4f}\")"
   ]
  },
  {
   "cell_type": "code",
   "execution_count": 257,
   "id": "d5e2eeb8",
   "metadata": {},
   "outputs": [
    {
     "name": "stdout",
     "output_type": "stream",
     "text": [
      "The least useful feature (by index) is feature number 315 with an accuracy difference of -0.0017\n"
     ]
    }
   ],
   "source": [
    "# Create a function to calculate accuracy without a given feature\n",
    "def calculate_accuracy_without_feature(feature_index):\n",
    "    X_train_encoded_without_feature = np.delete(X_train_encoded, feature_index, axis=1)\n",
    "    X_val_encoded_without_feature = np.delete(X_val_encoded, feature_index, axis=1)\n",
    "\n",
    "    model = LogisticRegression(solver='liblinear', C=10, max_iter=1000, random_state=42)\n",
    "    model.fit(X_train_encoded_without_feature, y_train)\n",
    "\n",
    "    y_val_pred = model.predict(X_val_encoded_without_feature)\n",
    "\n",
    "    accuracy = accuracy_score(y_val, y_val_pred)\n",
    "    return accuracy\n",
    "\n",
    "# Calculate the original accuracy\n",
    "original_accuracy = accuracy\n",
    "\n",
    "# Initialize a list to store feature accuracy differences\n",
    "feature_accuracy_differences = []\n",
    "\n",
    "# Iterate through each feature\n",
    "for feature_index in range(X_train_encoded.shape[1]):\n",
    "    \n",
    "    # Calculate accuracy without the current feature\n",
    "    accuracy_without_feature = calculate_accuracy_without_feature(feature_index)\n",
    "    \n",
    "    # Calculate the accuracy difference\n",
    "    accuracy_difference = original_accuracy - accuracy_without_feature\n",
    "    \n",
    "    # Append the accuracy difference to the list\n",
    "    feature_accuracy_differences.append(accuracy_difference)\n",
    "\n",
    "# Find the least useful feature's index\n",
    "least_useful_feature_index = np.argmin(feature_accuracy_differences)\n",
    "\n",
    "# Print the least useful feature's index and its accuracy difference\n",
    "print(f\"The least useful feature (by index) is feature number {least_useful_feature_index} with an accuracy difference of {feature_accuracy_differences[least_useful_feature_index]:.4f}\")\n"
   ]
  },
  {
   "cell_type": "code",
   "execution_count": 259,
   "id": "873afcf4",
   "metadata": {},
   "outputs": [
    {
     "name": "stdout",
     "output_type": "stream",
     "text": [
      "The feature with the smallest accuracy difference is 'engine_hp' with a difference of -0.0008\n"
     ]
    }
   ],
   "source": [
    "# Define the list of feature indices\n",
    "feature_indices = [2, 3, 4, 7]  # 'year,' 'engine_hp,' 'transmission_type,' 'city_mpg'\n",
    "\n",
    "# Initialize a list to store feature accuracy differences\n",
    "feature_accuracy_differences = []\n",
    "\n",
    "# Iterate through each feature index\n",
    "for feature_index in feature_indices:\n",
    "    \n",
    "    # Calculate accuracy without the current feature\n",
    "    accuracy_without_feature = calculate_accuracy_without_feature(feature_index)\n",
    "    \n",
    "    # Calculate the accuracy difference\n",
    "    accuracy_difference = original_accuracy - accuracy_without_feature\n",
    "    \n",
    "    # Append the accuracy difference to the list\n",
    "    feature_accuracy_differences.append(accuracy_difference)\n",
    "\n",
    "# Find the feature index with the smallest accuracy difference\n",
    "smallest_difference_index = np.argmin(feature_accuracy_differences)\n",
    "smallest_accuracy_difference = feature_accuracy_differences[smallest_difference_index]\n",
    "\n",
    "# Map feature indices to their names\n",
    "feature_names = ['year', 'engine_hp', 'transmission_type', 'city_mpg']\n",
    "smallest_difference_feature = feature_names[smallest_difference_index]\n",
    "\n",
    "print(f\"The feature with the smallest accuracy difference is '{smallest_difference_feature}' with a difference of {smallest_accuracy_difference:.4f}\")\n"
   ]
  },
  {
   "cell_type": "code",
   "execution_count": 260,
   "id": "b9a3ffcb",
   "metadata": {},
   "outputs": [],
   "source": [
    "from math import sqrt\n",
    "from sklearn.linear_model import Ridge"
   ]
  },
  {
   "cell_type": "code",
   "execution_count": 261,
   "id": "e546636d",
   "metadata": {},
   "outputs": [],
   "source": [
    "# Apply logarithmic transformation to the 'price' column\n",
    "y_train_log = np.log1p(y_train)\n",
    "y_val_log = np.log1p(y_val)"
   ]
  },
  {
   "cell_type": "code",
   "execution_count": 262,
   "id": "460e4445",
   "metadata": {},
   "outputs": [],
   "source": [
    "# List of alpha values to try\n",
    "alpha_values = [0, 0.01, 0.1, 1, 10]"
   ]
  },
  {
   "cell_type": "code",
   "execution_count": 263,
   "id": "dbca288a",
   "metadata": {},
   "outputs": [],
   "source": [
    "# Initialize a dictionary to store RMSE scores for different alphas\n",
    "rmse_scores = {}\n",
    "\n",
    "# Iterate through each alpha value\n",
    "for alpha in alpha_values:\n",
    "    # Create and fit the Ridge regression model with 'sag' solver\n",
    "    model = Ridge(alpha=alpha, solver='sag', random_state=42)\n",
    "    model.fit(X_train_encoded, y_train_log)\n",
    "\n",
    "    # Make predictions on the validation set\n",
    "    y_val_pred_log = model.predict(X_val_encoded)\n",
    "\n",
    "    # Convert predicted values back to their original scale using inverse transformation\n",
    "    y_val_pred = np.expm1(y_val_pred_log)\n",
    "\n",
    "    # Calculate RMSE (Root Mean Squared Error)\n",
    "    rmse = sqrt(mean_squared_error(y_val, y_val_pred))\n",
    "\n",
    "    # Round RMSE to 3 decimal digits and store in the dictionary\n",
    "    rmse_scores[alpha] = round(rmse, 3)"
   ]
  },
  {
   "cell_type": "code",
   "execution_count": 264,
   "id": "b86714ac",
   "metadata": {},
   "outputs": [
    {
     "name": "stdout",
     "output_type": "stream",
     "text": [
      "Alpha = 0: RMSE = 0.221\n",
      "Alpha = 0.01: RMSE = 0.221\n",
      "Alpha = 0.1: RMSE = 0.221\n",
      "Alpha = 1: RMSE = 0.225\n",
      "Alpha = 10: RMSE = 0.265\n"
     ]
    }
   ],
   "source": [
    "# Print RMSE scores for different alpha values\n",
    "for alpha, rmse in rmse_scores.items():\n",
    "    print(f\"Alpha = {alpha}: RMSE = {rmse:.3f}\")"
   ]
  },
  {
   "cell_type": "code",
   "execution_count": null,
   "id": "1feff756",
   "metadata": {},
   "outputs": [],
   "source": []
  }
 ],
 "metadata": {
  "kernelspec": {
   "display_name": "Python 3 (ipykernel)",
   "language": "python",
   "name": "python3"
  },
  "language_info": {
   "codemirror_mode": {
    "name": "ipython",
    "version": 3
   },
   "file_extension": ".py",
   "mimetype": "text/x-python",
   "name": "python",
   "nbconvert_exporter": "python",
   "pygments_lexer": "ipython3",
   "version": "3.9.18"
  }
 },
 "nbformat": 4,
 "nbformat_minor": 5
}
